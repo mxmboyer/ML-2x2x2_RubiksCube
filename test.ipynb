{
 "cells": [
  {
   "cell_type": "code",
   "execution_count": 1,
   "id": "9eec689e",
   "metadata": {},
   "outputs": [],
   "source": [
    "import pandas as pd\n",
    "import numpy as np\n",
    "\n",
    "df_train_in = pd.read_csv(\"train_input.csv\")\n",
    "df_train_out = pd.read_csv(\"train_output.csv\")"
   ]
  },
  {
   "cell_type": "code",
   "execution_count": 5,
   "id": "867b45b3",
   "metadata": {},
   "outputs": [],
   "source": [
    "df_train_out_smalldistances = df_train_out[df_train_out['distance'].isin([1, 2])]\n",
    "df_train_in_smalldistances = df_train_in[df_train_in['ID'].isin(df_train_out_smalldistances.ID)]\n",
    "df_train_smalldistances = pd.merge(df_train_in_smalldistances, df_train_out_smalldistances, on=\"ID\")\n",
    "df_train_smalldistances.to_csv('train_merge_smalldistances.csv', index=False)"
   ]
  },
  {
   "cell_type": "code",
   "execution_count": 9,
   "id": "ce42c17c",
   "metadata": {},
   "outputs": [
    {
     "data": {
      "text/plain": [
       "1           6\n",
       "10        459\n",
       "11    1836300\n",
       "12        315\n",
       "Name: distance, dtype: int64"
      ]
     },
     "execution_count": 9,
     "metadata": {},
     "output_type": "execute_result"
    }
   ],
   "source": [
    "pd.read_csv(\"test_output_neural_200-150-100.csv\").distance.value_counts().sort_index(ascending=True)"
   ]
  },
  {
   "cell_type": "code",
   "execution_count": 10,
   "id": "e19a137a",
   "metadata": {},
   "outputs": [
    {
     "data": {
      "text/plain": [
       "10        183\n",
       "11    1836681\n",
       "12        215\n",
       "13          1\n",
       "Name: distance, dtype: int64"
      ]
     },
     "execution_count": 10,
     "metadata": {},
     "output_type": "execute_result"
    }
   ],
   "source": [
    "pd.read_csv(\"test_output_neural_150-100-50.csv\").distance.value_counts().sort_index(ascending=True)"
   ]
  },
  {
   "cell_type": "code",
   "execution_count": 11,
   "id": "0291114c",
   "metadata": {},
   "outputs": [
    {
     "data": {
      "text/plain": [
       "11    1836648\n",
       "12        414\n",
       "13         18\n",
       "Name: distance, dtype: int64"
      ]
     },
     "execution_count": 11,
     "metadata": {},
     "output_type": "execute_result"
    }
   ],
   "source": [
    "pd.read_csv(\"test_output_neural_24-50-100-50-24.csv\").distance.value_counts().sort_index(ascending=True)"
   ]
  },
  {
   "cell_type": "code",
   "execution_count": 12,
   "id": "bcce0404",
   "metadata": {},
   "outputs": [
    {
     "data": {
      "text/plain": [
       "11    1837012\n",
       "12         41\n",
       "13         27\n",
       "Name: distance, dtype: int64"
      ]
     },
     "execution_count": 12,
     "metadata": {},
     "output_type": "execute_result"
    }
   ],
   "source": [
    "pd.read_csv(\"test_output_neural_50-40-30-24.csv\").distance.value_counts().sort_index(ascending=True)"
   ]
  },
  {
   "cell_type": "code",
   "execution_count": 18,
   "id": "dd2636d6",
   "metadata": {},
   "outputs": [],
   "source": [
    "tab_data = [\n",
    "    [5,1,6,3, 5,1,6,3, 2,4,4,2, 2,4,4,2, 1,3,3,1, 6,5,5,6],\n",
    "    [1,1,6,6, 1,1,6,6, 3,5,4,2, 3,5,4,2, 4,4,3,3, 2,2,5,5],\n",
    "    [2,2,4,4, 1,1,6,6, 6,1,1,6, 2,4,4,2, 3,3,3,3, 5,5,5,5]\n",
    "]\n",
    "\n",
    "tab = [\n",
    "    [1,6,1,6, 6,2,6,2, 2,4,2,4, 4,1,4,1, 5,5,5,5, 3,3,3,3],\n",
    "    [1,4,1,4, 6,1,6,1, 2,6,2,6, 4,2,4,2, 5,5,5,5, 3,3,3,3],\n",
    "    [1,1,1,1, 5,5,6,6, 2,2,2,2, 3,3,4,4, 4,4,5,5, 6,6,3,3],\n",
    "    [1,1,1,1, 3,3,6,6, 2,2,2,2, 5,5,4,4, 6,6,5,5, 4,4,3,3],\n",
    "    [1,1,3,3, 6,6,6,6, 5,5,2,2, 4,4,4,4, 5,1,5,1, 2,3,2,3],\n",
    "    [1,1,5,5, 6,6,6,6, 3,3,2,2, 4,4,4,4, 5,2,5,2, 1,3,1,3]\n",
    "]\n",
    "\n",
    "for td in tab_data:\n",
    "    for t in tab:\n",
    "        idx = [0,0,0,0,0,0]\n",
    "        i = 0\n",
    "        while(i<24):\n",
    "            if(idx[td[i]-1] == 0):\n",
    "                idx[td[i]-1] = t[i]\n",
    "            elif(idx[td[i]-1] != t[i]):\n",
    "                i = 30\n",
    "                #print(\"echec \" + str(td) + \" // \" + str(t))\n",
    "            i += 1\n",
    "        if(i != 31):\n",
    "            print(\"succes \" + str(idx) + \" => \" + str(td) + \" // \" + str(t))"
   ]
  },
  {
   "cell_type": "code",
   "execution_count": 6,
   "id": "4978daca",
   "metadata": {},
   "outputs": [],
   "source": [
    "j = 0\n",
    "while(j < len(df_train_out)):\n",
    "    l = df_train_in.iloc[j].tolist()\n",
    "    for i in range(1,9):\n",
    "        if(l[i] == l[i+8] or l[i] == l[i+16] or l[i+8] == l[i+16]):\n",
    "            print(l)\n",
    "            j = len(df_train_in)\n",
    "            break;\n",
    "    j += 1"
   ]
  },
  {
   "cell_type": "code",
   "execution_count": 8,
   "id": "46bab864",
   "metadata": {},
   "outputs": [
    {
     "data": {
      "text/plain": [
       "['451', '143', '123', '125', '652', '263', '645', '643']"
      ]
     },
     "execution_count": 8,
     "metadata": {},
     "output_type": "execute_result"
    }
   ],
   "source": [
    "tab = [0,0,0,0,0,0,0,0]\n",
    "l = df_train_in.iloc[0].tolist()\n",
    "for i in range(1,9):\n",
    "    tab[i-1] = str(l[i]) + str(l[i+8]) + str(l[i+16])\n",
    "tab"
   ]
  },
  {
   "cell_type": "code",
   "execution_count": 9,
   "id": "7a557472",
   "metadata": {},
   "outputs": [
    {
     "data": {
      "text/plain": [
       "ID           0\n",
       "distance    11\n",
       "Name: 0, dtype: int64"
      ]
     },
     "execution_count": 9,
     "metadata": {},
     "output_type": "execute_result"
    }
   ],
   "source": [
    "df_train_out.iloc[0]"
   ]
  },
  {
   "cell_type": "code",
   "execution_count": 10,
   "id": "566fdd64",
   "metadata": {},
   "outputs": [
    {
     "name": "stdout",
     "output_type": "stream",
     "text": [
      "['521', '143', '643', '321', '526', '145', '645', '326']\n",
      "['134', '154', '643', '623', '132', '152', '645', '625']\n",
      "['263', '213', '413', '463', '125', '145', '645', '625']\n"
     ]
    }
   ],
   "source": [
    "tab_data = [\n",
    "    [5,1,6,3, 5,1,6,3, 2,4,4,2, 2,4,4,2, 1,3,3,1, 6,5,5,6],\n",
    "    [1,1,6,6, 1,1,6,6, 3,5,4,2, 3,5,4,2, 4,4,3,3, 2,2,5,5],\n",
    "    [2,2,4,4, 1,1,6,6, 6,1,1,6, 2,4,4,2, 3,3,3,3, 5,5,5,5]\n",
    "]\n",
    "tab = [0,0,0,0,0,0,0,0]\n",
    "for j in range(3):\n",
    "    for i in range(0,8):\n",
    "        tab[i] = str(tab_data[j][i]) + str(tab_data[j][i+8]) + str(tab_data[j][i+16])\n",
    "    print(tab)"
   ]
  },
  {
   "cell_type": "code",
   "execution_count": 12,
   "id": "02c37598",
   "metadata": {},
   "outputs": [
    {
     "data": {
      "text/plain": [
       "[[1, 2], [3, 4]]"
      ]
     },
     "execution_count": 12,
     "metadata": {},
     "output_type": "execute_result"
    }
   ],
   "source": [
    "mat = []\n",
    "mat.append([1,2])\n",
    "mat.append([3,4])\n",
    "mat"
   ]
  },
  {
   "cell_type": "code",
   "execution_count": null,
   "id": "ae1a9574",
   "metadata": {},
   "outputs": [],
   "source": []
  }
 ],
 "metadata": {
  "kernelspec": {
   "display_name": "Python 3 (ipykernel)",
   "language": "python",
   "name": "python3"
  },
  "language_info": {
   "codemirror_mode": {
    "name": "ipython",
    "version": 3
   },
   "file_extension": ".py",
   "mimetype": "text/x-python",
   "name": "python",
   "nbconvert_exporter": "python",
   "pygments_lexer": "ipython3",
   "version": "3.8.6"
  }
 },
 "nbformat": 4,
 "nbformat_minor": 5
}
